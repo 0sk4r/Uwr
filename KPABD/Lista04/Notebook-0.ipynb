{
    "metadata": {
        "kernelspec": {
            "name": "SQL",
            "display_name": "SQL",
            "language": "sql"
        },
        "language_info": {
            "name": "sql",
            "version": ""
        }
    },
    "nbformat_minor": 2,
    "nbformat": 4,
    "cells": [
        {
            "cell_type": "markdown",
            "source": [
                "# Zadanie 1\n",
                "\n",
                "Create three examples showing the anomalies of dirty read, non-repeatable read, and phantom read, respectively. Verify experimentally what are the isolation levels at which these anomalies appear. Present visually interactions between two parallel scripts pointing out where exactly an anomaly occurs and that a respective isolation level is preventing that.\n",
                "\n",
                "  \n",
                "| POZIOM IZOLACJI | DIRTY READ | NONREAPEATABLE READ | PHANTOM |\n",
                "| :---------------: | :----------: | :-------------------: | :-------: |\n",
                "| READ UNCOMMITTED | TAK       | TAK                 | TAK    |\n",
                "| READ COMMITED    | NIE       | TAK                 | TAK    |\n",
                "| REPEATABLE READ    | NIE       | NIE                 | TAK    |\n",
                "| SNAPSHOT    | NIE       | NIE                 | NIE    |\n",
                "| SERIALIZABLE| NIE       | NIE                 | NIE    |"
            ],
            "metadata": {
                "azdata_cell_guid": "c51516ed-1111-44c0-9eda-6a5019c60f6f"
            }
        },
        {
            "cell_type": "markdown",
            "source": [
                "# Zadanie 2\r\n",
                "\r\n",
                "## 1NF\r\n",
                "Relacja jest w pierwszej postaci normalnej, jeśli:\r\n",
                "\r\n",
                "* opisuje jeden obiekt\r\n",
                "* wartości atrybutów są elementarne (atomowe, niepodzielne) – każda kolumna jest wartością skalarną (atomową), a nie macierzą lub listą czy też czymkolwiek, co posiada własną strukturę,\r\n",
                "* nie zawiera kolekcji (powtarzających się grup informacji)\r\n",
                "* kolejność wierszy może być dowolna (znaczenie danych nie zależy od kolejności wierszy).\r\n",
                "\r\n",
                "\r\n",
                "| ID | Imie | Nazwisko | Ulica | Miasto | Kod pocztowy | Data | Godzina | Pokoj | Kwota |\r\n",
                "| ---| -----|----------| ------| -----|-----|-----|------|----|---|\r\n",
                "| 1  | Jan | Kot | 6 Dolna Street | Bór | 44-444 | 2029-02-01 | 12.30 | 12 | 300 zł|\r\n",
                "\r\n",
                "|Imie lek | Nazwisko lek | Powod wiz | Szczegóły |\r\n",
                "| ----| ----| ----| ---|\r\n",
                "| Oleg | Wyrwiząb | Dental | Denture fiiting in |\r\n",
                "\r\n",
                "## 2NF\r\n",
                "Relacja jest w drugiej postaci normalnej wtedy i tylko wtedy, gdy jest w I postaci normalnej i żadna kolumna niekluczowa nie jest częściowo funkcyjnie zależna od jakiegokolwiek klucza potencjalnego.\r\n",
                "\r\n",
                "Tabela wizyty:\r\n",
                "\r\n",
                "| ID | Data | Godzina | Pokój | Szczegóły | Kwota | ID_lek | ID_pacjenta | ID_typ|\r\n",
                "| -- | ---- | --------| ----- | --------- | ----- | ------ | ----------- | ------|\r\n",
                "\r\n",
                "Tabela Lekarze\r\n",
                "\r\n",
                "|ID| Imie | Nazwisko|\r\n",
                "|--|---|---|\r\n",
                "\r\n",
                "Tabela Pacjenci\r\n",
                "\r\n",
                "|ID| Imie | Nazwisko | Ulica | Miasto | Kod Pocztowy |\r\n",
                "|---| ----|-----|----|----|---|\r\n",
                "\r\n",
                "Tabela typ wizyty\r\n",
                "\r\n",
                "|ID | Typ |\r\n",
                "|--|---|\r\n",
                "\r\n",
                "## 3NF\r\n",
                "Relacja jest w trzeciej postaci normalnej wtedy i tylko wtedy, gdy jest w II postaci normalnej i żaden atrybut niekluczowy nie jest zależny funkcyjnie od innych atrybutów niekluczowych.\r\n",
                "\r\n",
                "Wyodrębniamy tabele szczegóły wizyty\r\n",
                "\r\n",
                "| ID | Opis | Cena | ID_Typ |\r\n",
                "|---|----|---|---|"
            ],
            "metadata": {
                "azdata_cell_guid": "1c734f59-0cf5-4a1b-93a3-e90e304c2fd8"
            }
        }
    ]
}